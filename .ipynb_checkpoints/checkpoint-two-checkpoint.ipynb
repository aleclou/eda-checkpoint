{
 "cells": [
  {
   "cell_type": "markdown",
   "metadata": {
    "azdata_cell_guid": "151601c9-ca7a-412e-af80-c62a87e0837e"
   },
   "source": [
    "# Checkpoint Two: Exploratory Data Analysis\n",
    "\n",
    "Now that your chosen dataset is approved, it is time to start working on your analysis. Use this notebook to perform your EDA and make notes where directed to as you work.\n",
    "\n",
    "## Getting Started\n",
    "\n",
    "Since we have not provided your dataset for you, you will need to load the necessary files in this repository. Make sure to include a link back to the original dataset here as well.\n",
    "\n",
    "My dataset: [Chocolate Bar Ratings | Kaggle](https://www.kaggle.com/datasets/rtatman/chocolate-bar-ratings?resource=download)\n",
    "\n",
    "Your first task in EDA is to import necessary libraries and create a dataframe(s). Make note in the form of code comments of what your thought process is as you work on this setup task."
   ]
  },
  {
   "cell_type": "code",
   "execution_count": 88,
   "metadata": {
    "azdata_cell_guid": "7b503e37-6df5-4433-acfb-678b1346db14",
    "language": "python"
   },
   "outputs": [],
   "source": [
    "#import necessary libraries\n",
    "import pandas as pd\n",
    "import matplotlib.pyplot as plt\n",
    "import seaborn as sns\n",
    "import numpy as np\n",
    "\n",
    "#create dataframe\n",
    "choco_df = pd.read_csv(\"chocolate.csv\")"
   ]
  },
  {
   "cell_type": "markdown",
   "metadata": {
    "azdata_cell_guid": "129ce836-524b-4ea8-b394-a959f9308d6a"
   },
   "source": [
    "## Get to Know the Numbers\n",
    "\n",
    "Now that you have everything setup, put any code that you use to get to know the dataframe and its rows and columns better in the cell below. You can use whatever techniques you like, except for visualizations. You will put those in a separate section.\n",
    "\n",
    "When working on your code, make sure to leave comments so that your mentors can understand your thought process."
   ]
  },
  {
   "cell_type": "code",
   "execution_count": 89,
   "metadata": {
    "azdata_cell_guid": "0ca2d318-f6e8-43ef-a33e-5304d24d928d",
    "language": "python",
    "tags": []
   },
   "outputs": [
    {
     "data": {
      "text/html": [
       "<div>\n",
       "<style scoped>\n",
       "    .dataframe tbody tr th:only-of-type {\n",
       "        vertical-align: middle;\n",
       "    }\n",
       "\n",
       "    .dataframe tbody tr th {\n",
       "        vertical-align: top;\n",
       "    }\n",
       "\n",
       "    .dataframe thead th {\n",
       "        text-align: right;\n",
       "    }\n",
       "</style>\n",
       "<table border=\"1\" class=\"dataframe\">\n",
       "  <thead>\n",
       "    <tr style=\"text-align: right;\">\n",
       "      <th></th>\n",
       "      <th>Company \\n(Maker-if known)</th>\n",
       "      <th>Specific Bean Origin\\nor Bar Name</th>\n",
       "      <th>REF</th>\n",
       "      <th>Review\\nDate</th>\n",
       "      <th>Cocoa\\nPercent</th>\n",
       "      <th>Company\\nLocation</th>\n",
       "      <th>Rating</th>\n",
       "      <th>Bean\\nType</th>\n",
       "      <th>Broad Bean\\nOrigin</th>\n",
       "    </tr>\n",
       "  </thead>\n",
       "  <tbody>\n",
       "    <tr>\n",
       "      <th>0</th>\n",
       "      <td>A. Morin</td>\n",
       "      <td>Agua Grande</td>\n",
       "      <td>1876</td>\n",
       "      <td>2016</td>\n",
       "      <td>63%</td>\n",
       "      <td>France</td>\n",
       "      <td>3.75</td>\n",
       "      <td></td>\n",
       "      <td>Sao Tome</td>\n",
       "    </tr>\n",
       "    <tr>\n",
       "      <th>1</th>\n",
       "      <td>A. Morin</td>\n",
       "      <td>Kpime</td>\n",
       "      <td>1676</td>\n",
       "      <td>2015</td>\n",
       "      <td>70%</td>\n",
       "      <td>France</td>\n",
       "      <td>2.75</td>\n",
       "      <td></td>\n",
       "      <td>Togo</td>\n",
       "    </tr>\n",
       "    <tr>\n",
       "      <th>2</th>\n",
       "      <td>A. Morin</td>\n",
       "      <td>Atsane</td>\n",
       "      <td>1676</td>\n",
       "      <td>2015</td>\n",
       "      <td>70%</td>\n",
       "      <td>France</td>\n",
       "      <td>3.00</td>\n",
       "      <td></td>\n",
       "      <td>Togo</td>\n",
       "    </tr>\n",
       "    <tr>\n",
       "      <th>3</th>\n",
       "      <td>A. Morin</td>\n",
       "      <td>Akata</td>\n",
       "      <td>1680</td>\n",
       "      <td>2015</td>\n",
       "      <td>70%</td>\n",
       "      <td>France</td>\n",
       "      <td>3.50</td>\n",
       "      <td></td>\n",
       "      <td>Togo</td>\n",
       "    </tr>\n",
       "    <tr>\n",
       "      <th>4</th>\n",
       "      <td>A. Morin</td>\n",
       "      <td>Quilla</td>\n",
       "      <td>1704</td>\n",
       "      <td>2015</td>\n",
       "      <td>70%</td>\n",
       "      <td>France</td>\n",
       "      <td>3.50</td>\n",
       "      <td></td>\n",
       "      <td>Peru</td>\n",
       "    </tr>\n",
       "  </tbody>\n",
       "</table>\n",
       "</div>"
      ],
      "text/plain": [
       "  Company \\n(Maker-if known) Specific Bean Origin\\nor Bar Name   REF  \\\n",
       "0                   A. Morin                       Agua Grande  1876   \n",
       "1                   A. Morin                             Kpime  1676   \n",
       "2                   A. Morin                            Atsane  1676   \n",
       "3                   A. Morin                             Akata  1680   \n",
       "4                   A. Morin                            Quilla  1704   \n",
       "\n",
       "   Review\\nDate Cocoa\\nPercent Company\\nLocation  Rating Bean\\nType  \\\n",
       "0          2016            63%            France    3.75              \n",
       "1          2015            70%            France    2.75              \n",
       "2          2015            70%            France    3.00              \n",
       "3          2015            70%            France    3.50              \n",
       "4          2015            70%            France    3.50              \n",
       "\n",
       "  Broad Bean\\nOrigin  \n",
       "0           Sao Tome  \n",
       "1               Togo  \n",
       "2               Togo  \n",
       "3               Togo  \n",
       "4               Peru  "
      ]
     },
     "execution_count": 89,
     "metadata": {},
     "output_type": "execute_result"
    }
   ],
   "source": [
    "choco_df.head()"
   ]
  },
  {
   "cell_type": "code",
   "execution_count": 90,
   "metadata": {},
   "outputs": [
    {
     "name": "stdout",
     "output_type": "stream",
     "text": [
      "<class 'pandas.core.frame.DataFrame'>\n",
      "RangeIndex: 1795 entries, 0 to 1794\n",
      "Data columns (total 9 columns):\n",
      " #   Column                            Non-Null Count  Dtype  \n",
      "---  ------                            --------------  -----  \n",
      " 0   Company \n",
      "(Maker-if known)         1795 non-null   object \n",
      " 1   Specific Bean Origin\n",
      "or Bar Name  1795 non-null   object \n",
      " 2   REF                               1795 non-null   int64  \n",
      " 3   Review\n",
      "Date                       1795 non-null   int64  \n",
      " 4   Cocoa\n",
      "Percent                     1795 non-null   object \n",
      " 5   Company\n",
      "Location                  1795 non-null   object \n",
      " 6   Rating                            1795 non-null   float64\n",
      " 7   Bean\n",
      "Type                         1794 non-null   object \n",
      " 8   Broad Bean\n",
      "Origin                 1794 non-null   object \n",
      "dtypes: float64(1), int64(2), object(6)\n",
      "memory usage: 126.3+ KB\n"
     ]
    }
   ],
   "source": [
    "choco_df.info()"
   ]
  },
  {
   "cell_type": "code",
   "execution_count": 91,
   "metadata": {},
   "outputs": [
    {
     "data": {
      "text/plain": [
       "Index(['Company \\n(Maker-if known)', 'Specific Bean Origin\\nor Bar Name',\n",
       "       'REF', 'Review\\nDate', 'Cocoa\\nPercent', 'Company\\nLocation', 'Rating',\n",
       "       'Bean\\nType', 'Broad Bean\\nOrigin'],\n",
       "      dtype='object')"
      ]
     },
     "execution_count": 91,
     "metadata": {},
     "output_type": "execute_result"
    }
   ],
   "source": [
    "#looking at the columns I notice the names are hard to read, something to consider changing during data cleaning\n",
    "choco_df.columns"
   ]
  },
  {
   "cell_type": "code",
   "execution_count": 92,
   "metadata": {},
   "outputs": [
    {
     "data": {
      "text/plain": [
       "Company \\n(Maker-if known)           0\n",
       "Specific Bean Origin\\nor Bar Name    0\n",
       "REF                                  0\n",
       "Review\\nDate                         0\n",
       "Cocoa\\nPercent                       0\n",
       "Company\\nLocation                    0\n",
       "Rating                               0\n",
       "Bean\\nType                           1\n",
       "Broad Bean\\nOrigin                   1\n",
       "dtype: int64"
      ]
     },
     "execution_count": 92,
     "metadata": {},
     "output_type": "execute_result"
    }
   ],
   "source": [
    "#looking to see how many null values we have, it looks like this may be incorrect based on the first 5 rows\n",
    "choco_df.isna().sum()"
   ]
  },
  {
   "cell_type": "code",
   "execution_count": 93,
   "metadata": {},
   "outputs": [
    {
     "data": {
      "text/plain": [
       "Company \\n(Maker-if known)           1795\n",
       "Specific Bean Origin\\nor Bar Name    1795\n",
       "REF                                  1795\n",
       "Review\\nDate                         1795\n",
       "Cocoa\\nPercent                       1795\n",
       "Company\\nLocation                    1795\n",
       "Rating                               1795\n",
       "Bean\\nType                           1794\n",
       "Broad Bean\\nOrigin                   1794\n",
       "dtype: int64"
      ]
     },
     "execution_count": 93,
     "metadata": {},
     "output_type": "execute_result"
    }
   ],
   "source": [
    "choco_df.count()"
   ]
  },
  {
   "cell_type": "code",
   "execution_count": 94,
   "metadata": {},
   "outputs": [
    {
     "data": {
      "text/plain": [
       "Company \\n(Maker-if known)            416\n",
       "Specific Bean Origin\\nor Bar Name    1039\n",
       "REF                                   440\n",
       "Review\\nDate                           12\n",
       "Cocoa\\nPercent                         45\n",
       "Company\\nLocation                      60\n",
       "Rating                                 13\n",
       "Bean\\nType                             41\n",
       "Broad Bean\\nOrigin                    100\n",
       "dtype: int64"
      ]
     },
     "execution_count": 94,
     "metadata": {},
     "output_type": "execute_result"
    }
   ],
   "source": [
    "#I was confused initially why the REF (what I assumed to be a reference #) would have so few unique values, I went back to look at the data set and it turns out it's a value linked to when it was entered into the database, the higher the more recent\n",
    "#I'm surprised to see that there isn't a column for the experts rating, it would be nice to sift for bias that way but I wonder if there isn't a lot of repeat experts\n",
    "choco_df.nunique()"
   ]
  },
  {
   "cell_type": "code",
   "execution_count": 95,
   "metadata": {},
   "outputs": [
    {
     "data": {
      "text/plain": [
       "0"
      ]
     },
     "execution_count": 95,
     "metadata": {},
     "output_type": "execute_result"
    }
   ],
   "source": [
    "#no duplicated entries\n",
    "choco_df.duplicated().sum()"
   ]
  },
  {
   "cell_type": "code",
   "execution_count": 96,
   "metadata": {},
   "outputs": [
    {
     "data": {
      "text/plain": [
       "1.00      4\n",
       "1.50     10\n",
       "1.75      3\n",
       "2.00     32\n",
       "2.25     14\n",
       "2.50    127\n",
       "2.75    259\n",
       "3.00    341\n",
       "3.25    303\n",
       "3.50    392\n",
       "3.75    210\n",
       "4.00     98\n",
       "5.00      2\n",
       "Name: Rating, dtype: int64"
      ]
     },
     "execution_count": 96,
     "metadata": {},
     "output_type": "execute_result"
    }
   ],
   "source": [
    "#looking to see if there's a pattern in terms of rating\n",
    "choco_df['Rating'].value_counts().sort_index()"
   ]
  },
  {
   "cell_type": "code",
   "execution_count": 97,
   "metadata": {},
   "outputs": [
    {
     "data": {
      "text/plain": [
       "100%       20\n",
       "42%         1\n",
       "46%         1\n",
       "50%         1\n",
       "53%         1\n",
       "55%        16\n",
       "56%         2\n",
       "57%         1\n",
       "58%         8\n",
       "60%        43\n",
       "60.50%      1\n",
       "61%         8\n",
       "62%        14\n",
       "63%        12\n",
       "64%        34\n",
       "65%        78\n",
       "66%        23\n",
       "67%        27\n",
       "68%        47\n",
       "69%        10\n",
       "70%       672\n",
       "71%        31\n",
       "72%       189\n",
       "72.50%      4\n",
       "73%        40\n",
       "73.50%      2\n",
       "74%        50\n",
       "75%       222\n",
       "76%        23\n",
       "77%        33\n",
       "78%        17\n",
       "79%         1\n",
       "80%        72\n",
       "81%         5\n",
       "82%        17\n",
       "83%         4\n",
       "84%         4\n",
       "85%        36\n",
       "86%         1\n",
       "87%         1\n",
       "88%         8\n",
       "89%         2\n",
       "90%         8\n",
       "91%         3\n",
       "99%         2\n",
       "Name: Cocoa\\nPercent, dtype: int64"
      ]
     },
     "execution_count": 97,
     "metadata": {},
     "output_type": "execute_result"
    }
   ],
   "source": [
    "#looking to see if there's industry standards in cocoa percent\n",
    "choco_df['Cocoa\\nPercent'].value_counts().sort_index()"
   ]
  },
  {
   "cell_type": "code",
   "execution_count": 98,
   "metadata": {},
   "outputs": [
    {
     "data": {
      "text/plain": [
       "U.S.A.               764\n",
       "France               156\n",
       "Canada               125\n",
       "U.K.                  96\n",
       "Italy                 63\n",
       "Ecuador               54\n",
       "Australia             49\n",
       "Belgium               40\n",
       "Switzerland           38\n",
       "Germany               35\n",
       "Austria               26\n",
       "Spain                 25\n",
       "Colombia              23\n",
       "Hungary               22\n",
       "Venezuela             20\n",
       "Japan                 17\n",
       "Brazil                17\n",
       "Peru                  17\n",
       "Madagascar            17\n",
       "New Zealand           17\n",
       "Denmark               15\n",
       "Vietnam               11\n",
       "Scotland              10\n",
       "Guatemala             10\n",
       "Israel                 9\n",
       "Costa Rica             9\n",
       "Argentina              9\n",
       "Poland                 8\n",
       "Lithuania              6\n",
       "Honduras               6\n",
       "South Korea            5\n",
       "Nicaragua              5\n",
       "Sweden                 5\n",
       "Domincan Republic      5\n",
       "Ireland                4\n",
       "Netherlands            4\n",
       "Fiji                   4\n",
       "Sao Tome               4\n",
       "Puerto Rico            4\n",
       "Mexico                 4\n",
       "Amsterdam              4\n",
       "Iceland                3\n",
       "Singapore              3\n",
       "Portugal               3\n",
       "Grenada                3\n",
       "South Africa           3\n",
       "Finland                2\n",
       "Bolivia                2\n",
       "St. Lucia              2\n",
       "Chile                  2\n",
       "Philippines            1\n",
       "Czech Republic         1\n",
       "India                  1\n",
       "Martinique             1\n",
       "Niacragua              1\n",
       "Ghana                  1\n",
       "Wales                  1\n",
       "Eucador                1\n",
       "Russia                 1\n",
       "Suriname               1\n",
       "Name: Company\\nLocation, dtype: int64"
      ]
     },
     "execution_count": 98,
     "metadata": {},
     "output_type": "execute_result"
    }
   ],
   "source": [
    "#looking to see what variety in terms of location these bars have\n",
    "choco_df['Company\\nLocation'].value_counts()"
   ]
  },
  {
   "cell_type": "code",
   "execution_count": 99,
   "metadata": {},
   "outputs": [
    {
     "data": {
      "text/plain": [
       "Venezuela                214\n",
       "Ecuador                  193\n",
       "Peru                     165\n",
       "Madagascar               145\n",
       "Dominican Republic       141\n",
       "                        ... \n",
       "Peru, Belize               1\n",
       "Peru, Mad., Dom. Rep.      1\n",
       "PNG, Vanuatu, Mad          1\n",
       "Trinidad, Ecuador          1\n",
       "Venezuela, Carribean       1\n",
       "Name: Broad Bean\\nOrigin, Length: 100, dtype: int64"
      ]
     },
     "execution_count": 99,
     "metadata": {},
     "output_type": "execute_result"
    }
   ],
   "source": [
    "#looking to see who are the major bean providers\n",
    "choco_df['Broad Bean\\nOrigin'].value_counts()"
   ]
  },
  {
   "cell_type": "code",
   "execution_count": 100,
   "metadata": {},
   "outputs": [
    {
     "data": {
      "text/plain": [
       "                            887\n",
       "Trinitario                  419\n",
       "Criollo                     153\n",
       "Forastero                    87\n",
       "Forastero (Nacional)         52\n",
       "Blend                        41\n",
       "Criollo, Trinitario          39\n",
       "Forastero (Arriba)           37\n",
       "Criollo (Porcelana)          10\n",
       "Trinitario, Criollo           9\n",
       "Forastero (Parazinho)         8\n",
       "Forastero (Arriba) ASS        6\n",
       "Nacional (Arriba)             3\n",
       "Matina                        3\n",
       "EET                           3\n",
       "Beniano                       3\n",
       "Criollo (Ocumare 61)          2\n",
       "Trinitario, Forastero         2\n",
       "Trinitario (85% Criollo)      2\n",
       "Forastero (Catongo)           2\n",
       "Criollo, Forastero            2\n",
       "Amazon, ICS                   2\n",
       "Criollo (Amarru)              2\n",
       "Amazon mix                    2\n",
       "Nacional                      2\n",
       "Criollo (Ocumare)             1\n",
       "Criollo (Ocumare 67)          1\n",
       "Trinitario, TCGA              1\n",
       "Trinitario (Amelonado)        1\n",
       "Trinitario, Nacional          1\n",
       "Forastero (Amelonado)         1\n",
       "Forastero, Trinitario         1\n",
       "Forastero (Arriba) ASSS       1\n",
       "Forastero(Arriba, CCN)        1\n",
       "Criollo, +                    1\n",
       "Criollo (Wild)                1\n",
       "Trinitario (Scavina)          1\n",
       "Criollo (Ocumare 77)          1\n",
       "CCN51                         1\n",
       "Amazon                        1\n",
       "Blend-Forastero,Criollo       1\n",
       "Name: Bean\\nType, dtype: int64"
      ]
     },
     "execution_count": 100,
     "metadata": {},
     "output_type": "execute_result"
    }
   ],
   "source": [
    "#confirming that there are null values in this column, may not be useful since so many are missing\n",
    "choco_df['Bean\\nType'].value_counts()"
   ]
  },
  {
   "cell_type": "markdown",
   "metadata": {
    "azdata_cell_guid": "d45060f3-97bc-484a-9ef4-66145bbe9427"
   },
   "source": [
    "## Visualize\n",
    "\n",
    "Create any visualizations for your EDA here. Make note in the form of code comments of what your thought process is for your visualizations."
   ]
  },
  {
   "cell_type": "code",
   "execution_count": 101,
   "metadata": {
    "azdata_cell_guid": "f4565b03-759a-47a8-b58f-01b32a0b4b67",
    "language": "python"
   },
   "outputs": [
    {
     "data": {
      "text/plain": [
       "<AxesSubplot:>"
      ]
     },
     "execution_count": 101,
     "metadata": {},
     "output_type": "execute_result"
    },
    {
     "data": {
      "image/png": "[encoded data removed]",
      "text/plain": [
       "<Figure size 640x480 with 1 Axes>"
      ]
     },
     "metadata": {},
     "output_type": "display_data"
    }
   ],
   "source": [
    "#I called value count on this already but it's helpful to see that most of these bars are rated on the higher end\n",
    "choco_df['Rating'].value_counts().sort_index().plot(kind='bar')"
   ]
  },
  {
   "cell_type": "code",
   "execution_count": 102,
   "metadata": {
    "azdata_cell_guid": "cd64bab1-db4c-4295-820d-c6464b653a3e",
    "language": "python"
   },
   "outputs": [
    {
     "data": {
      "text/plain": [
       "<AxesSubplot:>"
      ]
     },
     "execution_count": 102,
     "metadata": {},
     "output_type": "execute_result"
    },
    {
     "data": {
      "image/png": "[encoded data removed]",
      "text/plain": [
       "<Figure size 640x480 with 1 Axes>"
      ]
     },
     "metadata": {},
     "output_type": "display_data"
    }
   ],
   "source": [
    "#I already did value counts here as well, but it's helpful to see just how many of these bars are 70%\n",
    "#it may be a good idea to group by similar percentage since they're so varied\n",
    "#unsure why the 100% is over on the left, good to remember that for future analysis\n",
    "choco_df['Cocoa\\nPercent'].value_counts().sort_index().plot(kind='bar')"
   ]
  },
  {
   "cell_type": "markdown",
   "metadata": {
    "azdata_cell_guid": "d4931c0c-2c09-4ee1-95d4-73dd08c2f0a6"
   },
   "source": [
    "## Summarize Your Results\n",
    "\n",
    "With your EDA complete, answer the following questions.\n",
    "\n",
    "1. Was there anything surprising about your dataset? \n",
    "\n",
    "There were quite a few null values for Bean Type which should be interesting. I'm wondering if they're correlated with a certain bean origin or location. I'm also surprised to see that there isn't a column for experts. It must be the case that they are all different or there's little overlap.\n",
    "\n",
    "2. Do you have any concerns about your dataset? \n",
    "\n",
    "I'm concerned about the null values, I don't know that Bean Type will be useful. I'm also a little concerned about the column names. This might be something to fix as they're not intuitive when I'm working with them but they're also not very easy to read.\n",
    "\n",
    "3. Is there anything you want to make note of for the next phase of your analysis, which is cleaning data? \n",
    "\n",
    "I'll consider the null values, the column titles, and maybe consider getting rid of the REF data as I'm not sure it's useful."
   ]
  },
  {
   "cell_type": "code",
   "execution_count": null,
   "metadata": {},
   "outputs": [],
   "source": []
  }
 ],
 "metadata": {
  "kernelspec": {
   "display_name": "Python 3 (ipykernel)",
   "language": "python",
   "name": "python3"
  },
  "language_info": {
   "codemirror_mode": {
    "name": "ipython",
    "version": 3
   },
   "file_extension": ".py",
   "mimetype": "text/x-python",
   "name": "python",
   "nbconvert_exporter": "python",
   "pygments_lexer": "ipython3",
   "version": "3.9.13"
  }
 },
 "nbformat": 4,
 "nbformat_minor": 2
}
